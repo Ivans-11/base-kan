{
 "cells": [
  {
   "cell_type": "code",
   "execution_count": 1,
   "id": "836a8ed1-e3ac-431d-b559-f6e3d5e2f938",
   "metadata": {},
   "outputs": [
    {
     "name": "stdout",
     "output_type": "stream",
     "text": [
      "cpu\n"
     ]
    }
   ],
   "source": [
    "import torch\n",
    "import torch.optim as optim\n",
    "import torch.nn as nn\n",
    "from torch.utils.data import DataLoader, TensorDataset\n",
    "import matplotlib.pyplot as plt\n",
    "import sys\n",
    "import os\n",
    "sys.path.append(os.path.abspath('..'))\n",
    "from kans import BSplineKAN\n",
    "from kans.utils import create_dataset\n",
    "\n",
    "torch.set_default_dtype(torch.float64)\n",
    "device = torch.device('cuda' if torch.cuda.is_available() else 'cpu')\n",
    "print(device)"
   ]
  },
  {
   "cell_type": "code",
   "execution_count": 2,
   "id": "1b8be92c-d866-4f84-a0ae-cda7846a5104",
   "metadata": {},
   "outputs": [
    {
     "name": "stdout",
     "output_type": "stream",
     "text": [
      "train_input size: torch.Size([1000, 2])\n",
      "train_label torch.Size([1000, 1])\n",
      "test_input size: torch.Size([1000, 2])\n",
      "test_label torch.Size([1000, 1])\n"
     ]
    }
   ],
   "source": [
    "# 生成数据集\n",
    "f = lambda x: torch.exp(torch.sin(torch.pi*x[:,[0]]) + x[:,[1]]**2)\n",
    "dataset = create_dataset(f, n_var=2, device=device)\n",
    "print('train_input size:', dataset['train_input'].shape)\n",
    "print('train_label',dataset['train_label'].shape)\n",
    "print('test_input size:', dataset['test_input'].shape)\n",
    "print('test_label',dataset['test_label'].shape)\n",
    "\n",
    "# 创建数据加载器\n",
    "train_dataset = TensorDataset(dataset['train_input'], dataset['train_label'])\n",
    "batch_size = 32\n",
    "train_loader = DataLoader(train_dataset, batch_size=batch_size, shuffle=True)"
   ]
  },
  {
   "cell_type": "code",
   "execution_count": 3,
   "id": "af4057d6-2356-4491-ab2f-344c2db75d3e",
   "metadata": {},
   "outputs": [],
   "source": [
    "# 创建模型\n",
    "layer_sizes = [2,5,3,1]  # 指定每层的节点数\n",
    "order = 3  # B-spline的阶数\n",
    "grid_range = [-1,1]  # 网格范围\n",
    "grid_count = 8  # 网格数量\n",
    "model = BSplineKAN(layer_sizes, order, grid_range, grid_count)\n",
    "model.to(device)\n",
    "\n",
    "# 优化器和损失函数\n",
    "optimizer = optim.Adam(model.parameters(), lr=0.01)\n",
    "criterion = nn.MSELoss()"
   ]
  },
  {
   "cell_type": "code",
   "execution_count": 4,
   "id": "8980fc7b-bab9-4711-ba51-e79c22a78d08",
   "metadata": {
    "scrolled": true
   },
   "outputs": [
    {
     "name": "stdout",
     "output_type": "stream",
     "text": [
      "Epoch [1/50] completed. Average Loss: 3.9355\n",
      "Epoch [2/50] completed. Average Loss: 2.0919\n",
      "Epoch [3/50] completed. Average Loss: 0.8269\n",
      "Epoch [4/50] completed. Average Loss: 0.2729\n",
      "Epoch [5/50] completed. Average Loss: 0.1113\n",
      "Epoch [6/50] completed. Average Loss: 0.0604\n",
      "Epoch [7/50] completed. Average Loss: 0.0332\n",
      "Epoch [8/50] completed. Average Loss: 0.0225\n",
      "Epoch [9/50] completed. Average Loss: 0.0244\n",
      "Epoch [10/50] completed. Average Loss: 0.0202\n",
      "Epoch [11/50] completed. Average Loss: 0.0173\n",
      "Epoch [12/50] completed. Average Loss: 0.0197\n",
      "Epoch [13/50] completed. Average Loss: 0.0143\n",
      "Epoch [14/50] completed. Average Loss: 0.0142\n",
      "Epoch [15/50] completed. Average Loss: 0.0150\n",
      "Epoch [16/50] completed. Average Loss: 0.0112\n",
      "Epoch [17/50] completed. Average Loss: 0.0111\n",
      "Epoch [18/50] completed. Average Loss: 0.0107\n",
      "Epoch [19/50] completed. Average Loss: 0.0100\n",
      "Epoch [20/50] completed. Average Loss: 0.0150\n",
      "Epoch [21/50] completed. Average Loss: 0.0116\n",
      "Epoch [22/50] completed. Average Loss: 0.0082\n",
      "Epoch [23/50] completed. Average Loss: 0.0093\n",
      "Epoch [24/50] completed. Average Loss: 0.0089\n",
      "Epoch [25/50] completed. Average Loss: 0.0076\n",
      "Epoch [26/50] completed. Average Loss: 0.0086\n",
      "Epoch [27/50] completed. Average Loss: 0.0087\n",
      "Epoch [28/50] completed. Average Loss: 0.0073\n",
      "Epoch [29/50] completed. Average Loss: 0.0076\n",
      "Epoch [30/50] completed. Average Loss: 0.0074\n",
      "Epoch [31/50] completed. Average Loss: 0.0085\n",
      "Epoch [32/50] completed. Average Loss: 0.0061\n",
      "Epoch [33/50] completed. Average Loss: 0.0055\n",
      "Epoch [34/50] completed. Average Loss: 0.0062\n",
      "Epoch [35/50] completed. Average Loss: 0.0060\n",
      "Epoch [36/50] completed. Average Loss: 0.0064\n",
      "Epoch [37/50] completed. Average Loss: 0.0065\n",
      "Epoch [38/50] completed. Average Loss: 0.0088\n",
      "Epoch [39/50] completed. Average Loss: 0.0134\n",
      "Epoch [40/50] completed. Average Loss: 0.0091\n",
      "Epoch [41/50] completed. Average Loss: 0.0063\n",
      "Epoch [42/50] completed. Average Loss: 0.0094\n",
      "Epoch [43/50] completed. Average Loss: 0.0068\n",
      "Epoch [44/50] completed. Average Loss: 0.0154\n",
      "Epoch [45/50] completed. Average Loss: 0.0078\n",
      "Epoch [46/50] completed. Average Loss: 0.0051\n",
      "Epoch [47/50] completed. Average Loss: 0.0065\n",
      "Epoch [48/50] completed. Average Loss: 0.0196\n",
      "Epoch [49/50] completed. Average Loss: 0.0133\n",
      "Epoch [50/50] completed. Average Loss: 0.0058\n"
     ]
    }
   ],
   "source": [
    "# 训练过程\n",
    "num_epochs = 50\n",
    "epoch_losses = []\n",
    "for epoch in range(num_epochs):\n",
    "    running_loss = 0.0\n",
    "    for i, (inputs, labels) in enumerate(train_loader):\n",
    "        # 前向传播\n",
    "        outputs = model(inputs)\n",
    "        loss = criterion(outputs, labels)\n",
    "        \n",
    "        # 反向传播和优化\n",
    "        optimizer.zero_grad()\n",
    "        loss.backward()\n",
    "        optimizer.step()\n",
    "        \n",
    "        # 记录损失\n",
    "        running_loss += loss.item()\n",
    "        \n",
    "        # 每隔一定步数打印一次信息\n",
    "        # if (i + 1) % 10 == 0:\n",
    "            # print(f\"Epoch [{epoch + 1}/{num_epochs}], Step [{i + 1}/{len(train_loader)}], Loss: {loss.item():.4f}\")\n",
    "    \n",
    "    # 每个epoch结束后输出平均损失\n",
    "    epoch_loss = running_loss / len(train_loader)\n",
    "    print(f\"Epoch [{epoch + 1}/{num_epochs}] completed. Average Loss: {epoch_loss:.4f}\")\n",
    "    epoch_losses.append(epoch_loss)\n",
    "\n",
    "# 保存模型\n",
    "torch.save(model.state_dict(), 'model/bspline_kan_model.pth')"
   ]
  },
  {
   "cell_type": "code",
   "execution_count": 5,
   "id": "55818c0d-5df4-4943-823f-843f80da5b3a",
   "metadata": {},
   "outputs": [
    {
     "data": {
      "image/png": "[encoded data removed]",
      "text/plain": [
       "<Figure size 800x600 with 1 Axes>"
      ]
     },
     "metadata": {},
     "output_type": "display_data"
    }
   ],
   "source": [
    "# 画出损失曲线\n",
    "plt.figure(figsize=(8,6))\n",
    "plt.plot(epoch_losses)\n",
    "plt.xlabel('Epoch')\n",
    "plt.ylabel('Loss')\n",
    "plt.title('Training Loss of b_kan model')\n",
    "plt.grid(True)\n",
    "plt.show()"
   ]
  },
  {
   "cell_type": "code",
   "execution_count": 6,
   "id": "0be22369-f988-4829-8002-886bc21f202a",
   "metadata": {},
   "outputs": [
    {
     "data": {
      "text/plain": [
       "<All keys matched successfully>"
      ]
     },
     "execution_count": 6,
     "metadata": {},
     "output_type": "execute_result"
    }
   ],
   "source": [
    "# 加载模型\n",
    "model = BSplineKAN(layer_sizes, order, grid_range, grid_count)\n",
    "model.load_state_dict(torch.load('model/bspline_kan_model.pth'))"
   ]
  },
  {
   "cell_type": "code",
   "execution_count": 7,
   "id": "bfea9d05-f8b0-43a6-843a-741c25ab626c",
   "metadata": {},
   "outputs": [
    {
     "name": "stdout",
     "output_type": "stream",
     "text": [
      "Test Loss: 0.0061\n"
     ]
    }
   ],
   "source": [
    "# 测试模型\n",
    "model.eval()\n",
    "test_input = dataset['test_input']\n",
    "test_label = dataset['test_label']\n",
    "with torch.no_grad():\n",
    "\ttest_output = model(test_input)\n",
    "test_loss = criterion(test_output, test_label).item()\n",
    "print(f\"Test Loss: {test_loss:.4f}\")"
   ]
  }
 ],
 "metadata": {
  "kernelspec": {
   "display_name": "Python 3 (ipykernel)",
   "language": "python",
   "name": "python3"
  },
  "language_info": {
   "codemirror_mode": {
    "name": "ipython",
    "version": 3
   },
   "file_extension": ".py",
   "mimetype": "text/x-python",
   "name": "python",
   "nbconvert_exporter": "python",
   "pygments_lexer": "ipython3",
   "version": "3.10.6"
  }
 },
 "nbformat": 4,
 "nbformat_minor": 5
}
