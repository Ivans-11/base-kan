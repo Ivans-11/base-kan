{
 "cells": [
  {
   "cell_type": "code",
   "execution_count": 1,
   "id": "836a8ed1-e3ac-431d-b559-f6e3d5e2f938",
   "metadata": {},
   "outputs": [
    {
     "name": "stdout",
     "output_type": "stream",
     "text": [
      "cpu\n"
     ]
    }
   ],
   "source": [
    "import torch\n",
    "import torch.optim as optim\n",
    "import torch.nn as nn\n",
    "from torch.utils.data import DataLoader, TensorDataset\n",
    "import matplotlib.pyplot as plt\n",
    "import sys\n",
    "import os\n",
    "sys.path.append(os.path.abspath('..'))\n",
    "from kans import JacobiKAN\n",
    "from kans.utils import create_dataset\n",
    "\n",
    "torch.set_default_dtype(torch.float64)\n",
    "device = torch.device('cuda' if torch.cuda.is_available() else 'cpu')\n",
    "print(device)"
   ]
  },
  {
   "cell_type": "code",
   "execution_count": 2,
   "id": "1b8be92c-d866-4f84-a0ae-cda7846a5104",
   "metadata": {},
   "outputs": [
    {
     "name": "stdout",
     "output_type": "stream",
     "text": [
      "train_input size: torch.Size([1000, 2])\n",
      "train_label torch.Size([1000, 1])\n",
      "test_input size: torch.Size([1000, 2])\n",
      "test_label torch.Size([1000, 1])\n"
     ]
    }
   ],
   "source": [
    "# Generate dataset\n",
    "f = lambda x: torch.exp(torch.sin(torch.pi*x[:,[0]]) + x[:,[1]]**2)\n",
    "dataset = create_dataset(f, n_var=2, device=device)\n",
    "print('train_input size:', dataset['train_input'].shape)\n",
    "print('train_label',dataset['train_label'].shape)\n",
    "print('test_input size:', dataset['test_input'].shape)\n",
    "print('test_label',dataset['test_label'].shape)\n",
    "\n",
    "# Create data loader\n",
    "train_dataset = TensorDataset(dataset['train_input'], dataset['train_label'])\n",
    "batch_size = 32\n",
    "train_loader = DataLoader(train_dataset, batch_size=batch_size, shuffle=True)"
   ]
  },
  {
   "cell_type": "code",
   "execution_count": 3,
   "id": "af4057d6-2356-4491-ab2f-344c2db75d3e",
   "metadata": {},
   "outputs": [],
   "source": [
    "# Create model\n",
    "layer_sizes = [2,5,3,1]  # Specify the number of nodes per layer\n",
    "alpha = 0.5\n",
    "beta = 0.5\n",
    "order = 5\n",
    "model = JacobiKAN(layer_sizes, order, alpha, beta)\n",
    "model.to(device)\n",
    "\n",
    "# Optimizer and loss function\n",
    "optimizer = optim.Adam(model.parameters(), lr=0.01)\n",
    "criterion = nn.MSELoss()"
   ]
  },
  {
   "cell_type": "code",
   "execution_count": 4,
   "id": "8980fc7b-bab9-4711-ba51-e79c22a78d08",
   "metadata": {
    "scrolled": true
   },
   "outputs": [
    {
     "name": "stdout",
     "output_type": "stream",
     "text": [
      "Epoch [1/50] completed. Average Loss: 3.1547\n",
      "Epoch [2/50] completed. Average Loss: 0.6256\n",
      "Epoch [3/50] completed. Average Loss: 0.1259\n",
      "Epoch [4/50] completed. Average Loss: 0.0473\n",
      "Epoch [5/50] completed. Average Loss: 0.0389\n",
      "Epoch [6/50] completed. Average Loss: 0.0266\n",
      "Epoch [7/50] completed. Average Loss: 0.0362\n",
      "Epoch [8/50] completed. Average Loss: 0.0180\n",
      "Epoch [9/50] completed. Average Loss: 0.0080\n",
      "Epoch [10/50] completed. Average Loss: 0.0075\n",
      "Epoch [11/50] completed. Average Loss: 0.0065\n",
      "Epoch [12/50] completed. Average Loss: 0.0086\n",
      "Epoch [13/50] completed. Average Loss: 0.0086\n",
      "Epoch [14/50] completed. Average Loss: 0.0049\n",
      "Epoch [15/50] completed. Average Loss: 0.0063\n",
      "Epoch [16/50] completed. Average Loss: 0.0035\n",
      "Epoch [17/50] completed. Average Loss: 0.0045\n",
      "Epoch [18/50] completed. Average Loss: 0.0088\n",
      "Epoch [19/50] completed. Average Loss: 0.0044\n",
      "Epoch [20/50] completed. Average Loss: 0.0037\n",
      "Epoch [21/50] completed. Average Loss: 0.0191\n",
      "Epoch [22/50] completed. Average Loss: 0.0235\n",
      "Epoch [23/50] completed. Average Loss: 0.0157\n",
      "Epoch [24/50] completed. Average Loss: 0.0054\n",
      "Epoch [25/50] completed. Average Loss: 0.0028\n",
      "Epoch [26/50] completed. Average Loss: 0.0034\n",
      "Epoch [27/50] completed. Average Loss: 0.0027\n",
      "Epoch [28/50] completed. Average Loss: 0.0043\n",
      "Epoch [29/50] completed. Average Loss: 0.0013\n",
      "Epoch [30/50] completed. Average Loss: 0.0024\n",
      "Epoch [31/50] completed. Average Loss: 0.0043\n",
      "Epoch [32/50] completed. Average Loss: 0.0055\n",
      "Epoch [33/50] completed. Average Loss: 0.0077\n",
      "Epoch [34/50] completed. Average Loss: 0.0060\n",
      "Epoch [35/50] completed. Average Loss: 0.0020\n",
      "Epoch [36/50] completed. Average Loss: 0.0019\n",
      "Epoch [37/50] completed. Average Loss: 0.0025\n",
      "Epoch [38/50] completed. Average Loss: 0.0042\n",
      "Epoch [39/50] completed. Average Loss: 0.0023\n",
      "Epoch [40/50] completed. Average Loss: 0.0025\n",
      "Epoch [41/50] completed. Average Loss: 0.0039\n",
      "Epoch [42/50] completed. Average Loss: 0.0028\n",
      "Epoch [43/50] completed. Average Loss: 0.0016\n",
      "Epoch [44/50] completed. Average Loss: 0.0018\n",
      "Epoch [45/50] completed. Average Loss: 0.0023\n",
      "Epoch [46/50] completed. Average Loss: 0.0076\n",
      "Epoch [47/50] completed. Average Loss: 0.0030\n",
      "Epoch [48/50] completed. Average Loss: 0.0015\n",
      "Epoch [49/50] completed. Average Loss: 0.0009\n",
      "Epoch [50/50] completed. Average Loss: 0.0017\n"
     ]
    }
   ],
   "source": [
    "# Training process\n",
    "num_epochs = 50\n",
    "epoch_losses = []\n",
    "for epoch in range(num_epochs):\n",
    "    running_loss = 0.0\n",
    "    for i, (inputs, labels) in enumerate(train_loader):\n",
    "        # Forward pass\n",
    "        outputs = model(inputs)\n",
    "        loss = criterion(outputs, labels)\n",
    "        \n",
    "        # Backward and optimize\n",
    "        optimizer.zero_grad()\n",
    "        loss.backward()\n",
    "        optimizer.step()\n",
    "        \n",
    "        # Record loss\n",
    "        running_loss += loss.item()\n",
    "        \n",
    "        # Print information every certain steps\n",
    "        # if (i + 1) % 10 == 0:\n",
    "            # print(f\"Epoch [{epoch + 1}/{num_epochs}], Step [{i + 1}/{len(train_loader)}], Loss: {loss.item():.4f}\")\n",
    "    \n",
    "    # Print average loss every epoch\n",
    "    epoch_loss = running_loss / len(train_loader)\n",
    "    print(f\"Epoch [{epoch + 1}/{num_epochs}] completed. Average Loss: {epoch_loss:.4f}\")\n",
    "    epoch_losses.append(epoch_loss)\n",
    "\n",
    "# Save the model\n",
    "torch.save(model.state_dict(), 'model/jacobi_kan_model.pth')"
   ]
  },
  {
   "cell_type": "code",
   "execution_count": 5,
   "id": "55818c0d-5df4-4943-823f-843f80da5b3a",
   "metadata": {},
   "outputs": [
    {
     "data": {
      "image/png": "[encoded data removed]",
      "text/plain": [
       "<Figure size 800x600 with 1 Axes>"
      ]
     },
     "metadata": {},
     "output_type": "display_data"
    }
   ],
   "source": [
    "# Plot the loss curve\n",
    "plt.figure(figsize=(8,6))\n",
    "plt.plot(epoch_losses)\n",
    "plt.xlabel('Epoch')\n",
    "plt.ylabel('Loss')\n",
    "plt.title('Training Loss of j_kan model')\n",
    "plt.grid(True)\n",
    "plt.show()"
   ]
  },
  {
   "cell_type": "code",
   "execution_count": 6,
   "id": "0be22369-f988-4829-8002-886bc21f202a",
   "metadata": {},
   "outputs": [
    {
     "data": {
      "text/plain": [
       "<All keys matched successfully>"
      ]
     },
     "execution_count": 6,
     "metadata": {},
     "output_type": "execute_result"
    }
   ],
   "source": [
    "# Load the model\n",
    "model = JacobiKAN(layer_sizes, order, alpha, beta)\n",
    "model.load_state_dict(torch.load('model/jacobi_kan_model.pth'))"
   ]
  },
  {
   "cell_type": "code",
   "execution_count": 7,
   "id": "bfea9d05-f8b0-43a6-843a-741c25ab626c",
   "metadata": {},
   "outputs": [
    {
     "name": "stdout",
     "output_type": "stream",
     "text": [
      "Test Loss: 0.0026\n"
     ]
    }
   ],
   "source": [
    "# Test the model\n",
    "model.eval()\n",
    "test_input = dataset['test_input']\n",
    "test_label = dataset['test_label']\n",
    "with torch.no_grad():\n",
    "\ttest_output = model(test_input)\n",
    "test_loss = criterion(test_output, test_label).item()\n",
    "print(f\"Test Loss: {test_loss:.4f}\")"
   ]
  }
 ],
 "metadata": {
  "kernelspec": {
   "display_name": "Python 3 (ipykernel)",
   "language": "python",
   "name": "python3"
  },
  "language_info": {
   "codemirror_mode": {
    "name": "ipython",
    "version": 3
   },
   "file_extension": ".py",
   "mimetype": "text/x-python",
   "name": "python",
   "nbconvert_exporter": "python",
   "pygments_lexer": "ipython3",
   "version": "3.10.6"
  }
 },
 "nbformat": 4,
 "nbformat_minor": 5
}
