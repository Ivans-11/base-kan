{
 "cells": [
  {
   "cell_type": "code",
   "execution_count": 1,
   "id": "85814b5e-7ff5-450b-ad8b-befdd0401e4a",
   "metadata": {},
   "outputs": [
    {
     "name": "stdout",
     "output_type": "stream",
     "text": [
      "cpu\n"
     ]
    }
   ],
   "source": [
    "import torch\n",
    "import torch.optim as optim\n",
    "import torch.nn as nn\n",
    "from torch.utils.data import DataLoader, TensorDataset\n",
    "import matplotlib.pyplot as plt\n",
    "import sys\n",
    "import os\n",
    "sys.path.append(os.path.abspath('..'))\n",
    "from kans import WaveletKAN\n",
    "from kans.utils import create_dataset\n",
    "\n",
    "\n",
    "torch.set_default_dtype(torch.float64)\n",
    "device = torch.device('cuda' if torch.cuda.is_available() else 'cpu')\n",
    "print(device)"
   ]
  },
  {
   "cell_type": "code",
   "execution_count": 2,
   "id": "39e1ff25-cc38-4716-8615-99584fe0d20b",
   "metadata": {},
   "outputs": [
    {
     "name": "stdout",
     "output_type": "stream",
     "text": [
      "train_input size: torch.Size([1000, 2])\n",
      "train_label torch.Size([1000, 1])\n",
      "test_input size: torch.Size([1000, 2])\n",
      "test_label torch.Size([1000, 1])\n"
     ]
    }
   ],
   "source": [
    "# Generate dataset\n",
    "f = lambda x: torch.exp(torch.sin(torch.pi*x[:,[0]]) + x[:,[1]]**2)\n",
    "dataset = create_dataset(f, n_var=2, device=device)\n",
    "print('train_input size:', dataset['train_input'].shape)\n",
    "print('train_label',dataset['train_label'].shape)\n",
    "print('test_input size:', dataset['test_input'].shape)\n",
    "print('test_label',dataset['test_label'].shape)\n",
    "\n",
    "# Create data loader\n",
    "train_dataset = TensorDataset(dataset['train_input'], dataset['train_label'])\n",
    "batch_size = 32\n",
    "train_loader = DataLoader(train_dataset, batch_size=batch_size, shuffle=True)"
   ]
  },
  {
   "cell_type": "code",
   "execution_count": 3,
   "id": "c3f45dee-bdb4-490f-9663-74083ee0bf5f",
   "metadata": {},
   "outputs": [],
   "source": [
    "# Create model\n",
    "layer_sizes = [2,5,3,1]  # Specify the number of nodes per layer\n",
    "wave_num = 5  # Number of wavelets\n",
    "wave_type = 'morlet'  # Type of wavelet\n",
    "model = WaveletKAN(layer_sizes, wave_num, wave_type)\n",
    "model.to(device)\n",
    "\n",
    "# Optimizer and loss function\n",
    "optimizer = optim.Adam(model.parameters(), lr=0.01)\n",
    "criterion = nn.MSELoss()"
   ]
  },
  {
   "cell_type": "code",
   "execution_count": 4,
   "id": "48eb442f-1b94-45fb-859c-82d7cb0ac5e4",
   "metadata": {
    "scrolled": true
   },
   "outputs": [
    {
     "name": "stdout",
     "output_type": "stream",
     "text": [
      "Epoch [1/50] completed. Average Loss: 2.8882\n",
      "Epoch [2/50] completed. Average Loss: 0.7516\n",
      "Epoch [3/50] completed. Average Loss: 0.2955\n",
      "Epoch [4/50] completed. Average Loss: 0.1368\n",
      "Epoch [5/50] completed. Average Loss: 0.0728\n",
      "Epoch [6/50] completed. Average Loss: 0.0542\n",
      "Epoch [7/50] completed. Average Loss: 0.0449\n",
      "Epoch [8/50] completed. Average Loss: 0.0398\n",
      "Epoch [9/50] completed. Average Loss: 0.0313\n",
      "Epoch [10/50] completed. Average Loss: 0.0287\n",
      "Epoch [11/50] completed. Average Loss: 0.0355\n",
      "Epoch [12/50] completed. Average Loss: 0.0187\n",
      "Epoch [13/50] completed. Average Loss: 0.0206\n",
      "Epoch [14/50] completed. Average Loss: 0.0166\n",
      "Epoch [15/50] completed. Average Loss: 0.0143\n",
      "Epoch [16/50] completed. Average Loss: 0.0181\n",
      "Epoch [17/50] completed. Average Loss: 0.0177\n",
      "Epoch [18/50] completed. Average Loss: 0.0155\n",
      "Epoch [19/50] completed. Average Loss: 0.0180\n",
      "Epoch [20/50] completed. Average Loss: 0.0260\n",
      "Epoch [21/50] completed. Average Loss: 0.0166\n",
      "Epoch [22/50] completed. Average Loss: 0.0099\n",
      "Epoch [23/50] completed. Average Loss: 0.0123\n",
      "Epoch [24/50] completed. Average Loss: 0.0216\n",
      "Epoch [25/50] completed. Average Loss: 0.0122\n",
      "Epoch [26/50] completed. Average Loss: 0.0201\n",
      "Epoch [27/50] completed. Average Loss: 0.0070\n",
      "Epoch [28/50] completed. Average Loss: 0.0058\n",
      "Epoch [29/50] completed. Average Loss: 0.0099\n",
      "Epoch [30/50] completed. Average Loss: 0.0080\n",
      "Epoch [31/50] completed. Average Loss: 0.0049\n",
      "Epoch [32/50] completed. Average Loss: 0.0038\n",
      "Epoch [33/50] completed. Average Loss: 0.0043\n",
      "Epoch [34/50] completed. Average Loss: 0.0168\n",
      "Epoch [35/50] completed. Average Loss: 0.0204\n",
      "Epoch [36/50] completed. Average Loss: 0.0098\n",
      "Epoch [37/50] completed. Average Loss: 0.0078\n",
      "Epoch [38/50] completed. Average Loss: 0.0072\n",
      "Epoch [39/50] completed. Average Loss: 0.0030\n",
      "Epoch [40/50] completed. Average Loss: 0.0029\n",
      "Epoch [41/50] completed. Average Loss: 0.0028\n",
      "Epoch [42/50] completed. Average Loss: 0.0021\n",
      "Epoch [43/50] completed. Average Loss: 0.0016\n",
      "Epoch [44/50] completed. Average Loss: 0.0028\n",
      "Epoch [45/50] completed. Average Loss: 0.0053\n",
      "Epoch [46/50] completed. Average Loss: 0.0036\n",
      "Epoch [47/50] completed. Average Loss: 0.0022\n",
      "Epoch [48/50] completed. Average Loss: 0.0038\n",
      "Epoch [49/50] completed. Average Loss: 0.0050\n",
      "Epoch [50/50] completed. Average Loss: 0.0089\n"
     ]
    }
   ],
   "source": [
    "# Training process\n",
    "num_epochs = 50\n",
    "epoch_losses = []\n",
    "for epoch in range(num_epochs):\n",
    "    running_loss = 0.0\n",
    "    for i, (inputs, labels) in enumerate(train_loader):\n",
    "        # Forward pass\n",
    "        outputs = model(inputs)\n",
    "        loss = criterion(outputs, labels)\n",
    "        \n",
    "        # Backward and optimize\n",
    "        optimizer.zero_grad()\n",
    "        loss.backward()\n",
    "        optimizer.step()\n",
    "        \n",
    "        # Record loss\n",
    "        running_loss += loss.item()\n",
    "        \n",
    "        # Print information every certain steps\n",
    "        # if (i + 1) % 10 == 0:\n",
    "            # print(f\"Epoch [{epoch + 1}/{num_epochs}], Step [{i + 1}/{len(train_loader)}], Loss: {loss.item():.4f}\")\n",
    "    \n",
    "    # Print average loss of the epoch\n",
    "    epoch_loss = running_loss / len(train_loader)\n",
    "    print(f\"Epoch [{epoch + 1}/{num_epochs}] completed. Average Loss: {epoch_loss:.4f}\")\n",
    "    epoch_losses.append(epoch_loss)\n",
    "\n",
    "# Save the model\n",
    "torch.save(model.state_dict(), 'model/wavelet_kan_model.pth')"
   ]
  },
  {
   "cell_type": "code",
   "execution_count": 5,
   "id": "0a4acdbe-3457-44e7-8e0f-14b1eddaa40c",
   "metadata": {},
   "outputs": [
    {
     "data": {
      "image/png": "[encoded data removed]",
      "text/plain": [
       "<Figure size 800x600 with 1 Axes>"
      ]
     },
     "metadata": {},
     "output_type": "display_data"
    }
   ],
   "source": [
    "# Plot the loss curve\n",
    "plt.figure(figsize=(8,6))\n",
    "plt.plot(epoch_losses)\n",
    "plt.xlabel('Epoch')\n",
    "plt.ylabel('Loss')\n",
    "plt.title('Training Loss of w_kan model')\n",
    "plt.grid(True)\n",
    "plt.show()"
   ]
  },
  {
   "cell_type": "code",
   "execution_count": 6,
   "id": "2ec34c3e-574c-4c05-aee4-2cfbde35466c",
   "metadata": {},
   "outputs": [
    {
     "data": {
      "text/plain": [
       "<All keys matched successfully>"
      ]
     },
     "execution_count": 6,
     "metadata": {},
     "output_type": "execute_result"
    }
   ],
   "source": [
    "# Load the model\n",
    "model = WaveletKAN(layer_sizes, wave_num, wave_type)\n",
    "model.load_state_dict(torch.load('model/wavelet_kan_model.pth'))"
   ]
  },
  {
   "cell_type": "code",
   "execution_count": 7,
   "id": "868fefb5-c77a-4dd6-8665-46e2ea12a36e",
   "metadata": {},
   "outputs": [
    {
     "name": "stdout",
     "output_type": "stream",
     "text": [
      "Test Loss: 0.0061\n"
     ]
    }
   ],
   "source": [
    "# Test the model\n",
    "model.eval()\n",
    "test_input = dataset['test_input']\n",
    "test_label = dataset['test_label']\n",
    "with torch.no_grad():\n",
    "\ttest_output = model(test_input)\n",
    "test_loss = criterion(test_output, test_label).item()\n",
    "print(f\"Test Loss: {test_loss:.4f}\")"
   ]
  }
 ],
 "metadata": {
  "kernelspec": {
   "display_name": "Python 3 (ipykernel)",
   "language": "python",
   "name": "python3"
  },
  "language_info": {
   "codemirror_mode": {
    "name": "ipython",
    "version": 3
   },
   "file_extension": ".py",
   "mimetype": "text/x-python",
   "name": "python",
   "nbconvert_exporter": "python",
   "pygments_lexer": "ipython3",
   "version": "3.10.6"
  }
 },
 "nbformat": 4,
 "nbformat_minor": 5
}
